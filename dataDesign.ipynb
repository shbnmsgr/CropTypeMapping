{
  "nbformat": 4,
  "nbformat_minor": 0,
  "metadata": {
    "colab": {
      "provenance": [],
      "authorship_tag": "ABX9TyNSSGLONpsw791NPfpFXlqK",
      "include_colab_link": true
    },
    "kernelspec": {
      "name": "python3",
      "display_name": "Python 3"
    },
    "language_info": {
      "name": "python"
    }
  },
  "cells": [
    {
      "cell_type": "markdown",
      "metadata": {
        "id": "view-in-github",
        "colab_type": "text"
      },
      "source": [
        "<a href=\"https://colab.research.google.com/github/shbnmsgr/CropTypeMapping/blob/main/dataDesign.ipynb\" target=\"_parent\"><img src=\"https://colab.research.google.com/assets/colab-badge.svg\" alt=\"Open In Colab\"/></a>"
      ]
    },
    {
      "cell_type": "code",
      "execution_count": null,
      "metadata": {
        "id": "CPSWMKsBqUOO",
        "colab": {
          "base_uri": "https://localhost:8080/"
        },
        "outputId": "d0403bb8-d3f7-46fc-e87c-4c672ddb6d61"
      },
      "outputs": [
        {
          "output_type": "stream",
          "name": "stdout",
          "text": [
            "Looking in indexes: https://pypi.org/simple, https://us-python.pkg.dev/colab-wheels/public/simple/\n",
            "Requirement already satisfied: rasterio in /usr/local/lib/python3.7/dist-packages (1.2.10)\n",
            "Requirement already satisfied: setuptools in /usr/local/lib/python3.7/dist-packages (from rasterio) (57.4.0)\n",
            "Requirement already satisfied: cligj>=0.5 in /usr/local/lib/python3.7/dist-packages (from rasterio) (0.7.2)\n",
            "Requirement already satisfied: affine in /usr/local/lib/python3.7/dist-packages (from rasterio) (2.3.1)\n",
            "Requirement already satisfied: attrs in /usr/local/lib/python3.7/dist-packages (from rasterio) (21.4.0)\n",
            "Requirement already satisfied: snuggs>=1.4.1 in /usr/local/lib/python3.7/dist-packages (from rasterio) (1.4.7)\n",
            "Requirement already satisfied: certifi in /usr/local/lib/python3.7/dist-packages (from rasterio) (2022.5.18.1)\n",
            "Requirement already satisfied: click-plugins in /usr/local/lib/python3.7/dist-packages (from rasterio) (1.1.1)\n",
            "Requirement already satisfied: numpy in /usr/local/lib/python3.7/dist-packages (from rasterio) (1.21.6)\n",
            "Requirement already satisfied: click>=4.0 in /usr/local/lib/python3.7/dist-packages (from rasterio) (7.1.2)\n",
            "Requirement already satisfied: pyparsing>=2.1.6 in /usr/local/lib/python3.7/dist-packages (from snuggs>=1.4.1->rasterio) (3.0.9)\n"
          ]
        }
      ],
      "source": [
        "!pip install rasterio"
      ]
    },
    {
      "cell_type": "markdown",
      "metadata": {
        "id": "7860ce9a"
      },
      "source": [
        "Import:"
      ]
    },
    {
      "cell_type": "code",
      "execution_count": null,
      "metadata": {
        "id": "a6eef42d"
      },
      "outputs": [],
      "source": [
        "import cv2\n",
        "from osgeo import gdal\n",
        "import numpy as np\n",
        "from termcolor import colored\n",
        "import rasterio\n",
        "from rasterio.plot import show\n",
        "from scipy.io import loadmat"
      ]
    },
    {
      "cell_type": "markdown",
      "metadata": {
        "id": "_NEaIfLFqpIl"
      },
      "source": [
        "conect to Drive:"
      ]
    },
    {
      "cell_type": "code",
      "execution_count": null,
      "metadata": {
        "id": "EO0l9ghnq163",
        "colab": {
          "base_uri": "https://localhost:8080/"
        },
        "outputId": "b6486bba-a973-4bfb-e260-aeba1e7d36f8"
      },
      "outputs": [
        {
          "output_type": "stream",
          "name": "stdout",
          "text": [
            "Drive already mounted at /content/drive; to attempt to forcibly remount, call drive.mount(\"/content/drive\", force_remount=True).\n"
          ]
        }
      ],
      "source": [
        "from google.colab import drive\n",
        "drive.mount('/content/drive')"
      ]
    },
    {
      "cell_type": "markdown",
      "metadata": {
        "id": "a0fc87a1"
      },
      "source": [
        "Input Data:"
      ]
    },
    {
      "cell_type": "code",
      "source": [
        "path1 = '/content/drive/Shareddrives/Unlimited Drive | @LicenseMarket/subset1/S2_VARI/'\n",
        "path2 = '/content/drive/Shareddrives/Unlimited Drive | @LicenseMarket/subset1/S2_ARVI2/'\n",
        "vari = 'ARVI2'"
      ],
      "metadata": {
        "id": "c8dg5B5O1Mct"
      },
      "execution_count": null,
      "outputs": []
    },
    {
      "cell_type": "code",
      "execution_count": null,
      "metadata": {
        "id": "579ea85c",
        "scrolled": true
      },
      "outputs": [],
      "source": [
        "# NDVI timeseries\n",
        "dataset = rasterio.open(path2 + 's2_Abiek_'+ vari +'_timeseries.tif')\n"
      ]
    },
    {
      "cell_type": "code",
      "execution_count": null,
      "metadata": {
        "id": "6cc5be19",
        "outputId": "3296ec20-61ce-4fbe-9fad-14cf53710466",
        "colab": {
          "base_uri": "https://localhost:8080/"
        }
      },
      "outputs": [
        {
          "output_type": "stream",
          "name": "stdout",
          "text": [
            "1618 2607 8\n"
          ]
        }
      ],
      "source": [
        "height = dataset.meta['height']\n",
        "width= dataset.meta['width']\n",
        "bands = dataset.meta['count']\n",
        "print(height, width, bands)"
      ]
    },
    {
      "cell_type": "code",
      "execution_count": null,
      "metadata": {
        "id": "3123607e"
      },
      "outputs": [],
      "source": [
        "feature_timeseries = np.zeros((height,width,bands))\n",
        "for i in range(bands):\n",
        "    feature_timeseries[:,:,i] = dataset.read(i+1)"
      ]
    },
    {
      "cell_type": "code",
      "source": [
        "feature_timeseries.shape"
      ],
      "metadata": {
        "colab": {
          "base_uri": "https://localhost:8080/"
        },
        "id": "n4_BiqROpRip",
        "outputId": "4f633752-f5c8-46c2-e9dc-709cbf54a665"
      },
      "execution_count": null,
      "outputs": [
        {
          "output_type": "execute_result",
          "data": {
            "text/plain": [
              "(1618, 2607, 8)"
            ]
          },
          "metadata": {},
          "execution_count": 223
        }
      ]
    },
    {
      "cell_type": "code",
      "source": [
        "ind_train = np.load(path1 + 'ind_train.npy')\n",
        "ind_test = np.load(path1 + 'ind_test.npy')\n",
        "ind_un = np.load(path1 + 'ind_un.npy')\n",
        "gt = np.load(path1 + 'ground_truth_2D.npy')\n",
        "\n",
        "y_train = np.load(path1 + 'y_train.npy')\n",
        "y_test = np.load(path1 + 'y_test.npy')\n",
        "y_un = np.load(path1 + 'y_un.npy')\n"
      ],
      "metadata": {
        "id": "Qnt6WcSZu4d4"
      },
      "execution_count": null,
      "outputs": []
    },
    {
      "cell_type": "code",
      "source": [
        "feature_timeseries_2D = feature_timeseries.reshape((height* width, bands))"
      ],
      "metadata": {
        "id": "d9JSxOeBwXLE"
      },
      "execution_count": null,
      "outputs": []
    },
    {
      "cell_type": "code",
      "source": [
        "ind_un.shape[0]"
      ],
      "metadata": {
        "colab": {
          "base_uri": "https://localhost:8080/"
        },
        "id": "ejSvO3Xdxybn",
        "outputId": "3c4b8057-292c-4933-d043-f8d031bebdb5"
      },
      "execution_count": null,
      "outputs": [
        {
          "output_type": "execute_result",
          "data": {
            "text/plain": [
              "1851040"
            ]
          },
          "metadata": {},
          "execution_count": 232
        }
      ]
    },
    {
      "cell_type": "code",
      "source": [
        "x_un = np.zeros((ind_un.shape[0],8))\n",
        "for i in range(ind_un.shape[0]):\n",
        "  x_un[i,:] = feature_timeseries_2D[int(ind_un[i])-1,:]\n",
        "x_un"
      ],
      "metadata": {
        "colab": {
          "base_uri": "https://localhost:8080/"
        },
        "id": "Sm7JF-HDphap",
        "outputId": "12526c4c-a2ba-4873-cbcf-437b625b7558"
      },
      "execution_count": null,
      "outputs": [
        {
          "output_type": "execute_result",
          "data": {
            "text/plain": [
              "array([[-0.58997502, -0.4839777 , -0.39157036, ..., -0.31026509,\n",
              "        -0.35340568, -0.34821086],\n",
              "       [-0.58997502, -0.4839777 , -0.39157036, ..., -0.31026509,\n",
              "        -0.35340568, -0.34821086],\n",
              "       [-0.57119303, -0.47098204, -0.39680879, ..., -0.27514916,\n",
              "        -0.33605845, -0.32117892],\n",
              "       ...,\n",
              "       [        nan,         nan,         nan, ...,         nan,\n",
              "                nan,         nan],\n",
              "       [        nan,         nan,         nan, ...,         nan,\n",
              "                nan,         nan],\n",
              "       [        nan,         nan,         nan, ...,         nan,\n",
              "                nan,         nan]])"
            ]
          },
          "metadata": {},
          "execution_count": 230
        }
      ]
    },
    {
      "cell_type": "code",
      "source": [
        "a = np.argwhere(np.isnan(x_un))\n",
        "a"
      ],
      "metadata": {
        "colab": {
          "base_uri": "https://localhost:8080/"
        },
        "id": "rUBF2QeIpu8Q",
        "outputId": "5038bc4d-b3ba-4dd5-9387-5f7e669a8aa5"
      },
      "execution_count": null,
      "outputs": [
        {
          "output_type": "execute_result",
          "data": {
            "text/plain": [
              "array([[1850896,       0],\n",
              "       [1850896,       1],\n",
              "       [1850896,       2],\n",
              "       ...,\n",
              "       [1851039,       5],\n",
              "       [1851039,       6],\n",
              "       [1851039,       7]])"
            ]
          },
          "metadata": {},
          "execution_count": 261
        }
      ]
    },
    {
      "cell_type": "code",
      "source": [
        "print(np.unique(a).shape)"
      ],
      "metadata": {
        "colab": {
          "base_uri": "https://localhost:8080/"
        },
        "id": "Hf8XLJ94s1Dd",
        "outputId": "9d0b7c91-a159-43fb-a6ed-c12b1569cefd"
      },
      "execution_count": null,
      "outputs": [
        {
          "output_type": "stream",
          "name": "stdout",
          "text": [
            "(152,)\n"
          ]
        }
      ]
    },
    {
      "cell_type": "code",
      "source": [
        "x_train = np.zeros((ind_train.shape[0],8))\n",
        "for i in range(ind_train.shape[0]):\n",
        "  x_train[i,:] = feature_timeseries_2D[int(ind_train[i])-1,:]\n",
        "\n",
        "x_test = np.zeros((ind_test.shape[0],8))\n",
        "for i in range(ind_test.shape[0]):\n",
        "  x_test[i,:] = feature_timeseries_2D[int(ind_test[i])-1,:]\n",
        "\n",
        "x_un = np.zeros((ind_un.shape[0],8))\n",
        "for i in range(ind_un.shape[0]):\n",
        "  x_un[i,:] = feature_timeseries_2D[int(ind_un[i])-1,:]\n",
        "\n"
      ],
      "metadata": {
        "id": "NcNy811xwZBN"
      },
      "execution_count": null,
      "outputs": []
    },
    {
      "cell_type": "code",
      "source": [
        "\n",
        "np.save(path2 + 'x_train.npy',x_train)\n",
        "np.save(path2 + 'y_train.npy',y_train)\n",
        "np.save(path2 + 'ind_train.npy',ind_train)\n",
        "\n",
        "np.save(path2 + 'x_test.npy',x_test)\n",
        "np.save(path2 + 'y_test.npy',y_test)\n",
        "np.save(path2 + 'ind_test.npy',ind_test)\n",
        "\n",
        "np.save(path2 + 'x_un.npy',x_un)\n",
        "np.save(path2 + 'y_un.npy',y_un)\n",
        "np.save(path2 + 'ind_un.npy',ind_un)\n",
        "\n",
        "\n",
        "np.save(path2 + 'feature_timeseries_2D.npy',feature_timeseries_2D)\n",
        "np.save(path2 + 'ground_truth_2D.npy',gt)\n",
        "np.save(path2 + 'height.npy',height)\n",
        "np.save(path2 + 'width.npy',width)\n",
        "np.save(path2 + 'bands.npy',bands)\n"
      ],
      "metadata": {
        "id": "eV9g-xu9zgoL"
      },
      "execution_count": null,
      "outputs": []
    }
  ]
}