{
  "nbformat": 4,
  "nbformat_minor": 0,
  "metadata": {
    "colab": {
      "provenance": [],
      "machine_shape": "hm",
      "authorship_tag": "ABX9TyNixQMkrHzmHanOOWhHQYS/",
      "include_colab_link": true
    },
    "kernelspec": {
      "name": "python3",
      "display_name": "Python 3"
    },
    "language_info": {
      "name": "python"
    },
    "accelerator": "GPU",
    "gpuClass": "standard"
  },
  "cells": [
    {
      "cell_type": "markdown",
      "metadata": {
        "id": "view-in-github",
        "colab_type": "text"
      },
      "source": [
        "<a href=\"https://colab.research.google.com/github/shbnmsgr/CropTypeMapping/blob/main/GBOOST.ipynb\" target=\"_parent\"><img src=\"https://colab.research.google.com/assets/colab-badge.svg\" alt=\"Open In Colab\"/></a>"
      ]
    },
    {
      "cell_type": "code",
      "execution_count": null,
      "metadata": {
        "id": "UnMSejhjJdQl"
      },
      "outputs": [],
      "source": [
        "import numpy as np\n",
        "from sklearn.ensemble import GradientBoostingClassifier\n",
        "from sklearn.metrics import confusion_matrix\n",
        "from sklearn.metrics import classification_report\n",
        "from sklearn.metrics import accuracy_score\n",
        "import pickle"
      ]
    },
    {
      "cell_type": "code",
      "source": [
        "import matplotlib.pyplot as plt"
      ],
      "metadata": {
        "id": "5KTibGOzQOVg"
      },
      "execution_count": null,
      "outputs": []
    },
    {
      "cell_type": "code",
      "source": [
        "from google.colab import drive\n",
        "drive.mount('/content/drive')"
      ],
      "metadata": {
        "colab": {
          "base_uri": "https://localhost:8080/"
        },
        "id": "QQ8_9VgktoFI",
        "outputId": "db58317a-5df4-408b-9e67-a677958b99bc"
      },
      "execution_count": null,
      "outputs": [
        {
          "output_type": "stream",
          "name": "stdout",
          "text": [
            "Drive already mounted at /content/drive; to attempt to forcibly remount, call drive.mount(\"/content/drive\", force_remount=True).\n"
          ]
        }
      ]
    },
    {
      "cell_type": "code",
      "source": [
        "# Indexes : S1_RVI, VH, VV, VVVH, S2_ARVI2, S2_CCCI, CVI, EVI, GEMI, GLI, LAI, LCI, ,NDVI, SAVI,VARI"
      ],
      "metadata": {
        "id": "iyZmjtuvEZaz"
      },
      "execution_count": null,
      "outputs": []
    },
    {
      "cell_type": "code",
      "source": [
        "path = '/content/drive/Shareddrives/Unlimited Drive | @LicenseMarket/subset1/S2_NDVI/'\n",
        "\n",
        "x_train = np.load(path + 'x_train.npy')\n",
        "y_train = np.load(path + 'y_train.npy')\n",
        "x_test = np.load(path + 'x_test.npy')\n",
        "y_test = np.load(path + 'y_test.npy')\n",
        "x_un = np.load(path + 'x_un.npy')\n",
        "y_un = np.load(path + 'y_un.npy')\n",
        "xsize = np.load(path + 'height.npy')\n",
        "ysize = np.load(path + 'width.npy')\n",
        "bands = np.load(path + 'bands.npy')"
      ],
      "metadata": {
        "id": "RvPz5yHmtZwx"
      },
      "execution_count": null,
      "outputs": []
    },
    {
      "cell_type": "code",
      "source": [
        "clf = GradientBoostingClassifier( n_estimators=100, learning_rate=1.0, max_depth=1, random_state=0)"
      ],
      "metadata": {
        "id": "FKzMd1mgJf--"
      },
      "execution_count": null,
      "outputs": []
    },
    {
      "cell_type": "code",
      "source": [
        "y = clf.fit(x_train, y_train)\n",
        "pickle.dump(clf,open( path + 'GBOOST/modl.sav','wb'))"
      ],
      "metadata": {
        "id": "3bLi6HWOKazr"
      },
      "execution_count": null,
      "outputs": []
    },
    {
      "cell_type": "code",
      "source": [
        "# model = pickle.load(open('modl.sav', 'rb'))\n"
      ],
      "metadata": {
        "id": "CZ1FYyE4EE9k"
      },
      "execution_count": null,
      "outputs": []
    },
    {
      "cell_type": "code",
      "source": [
        "y_pred_test = clf.predict(x_test)\n",
        "np.save(path + \"GBOOST/y_pred_test.npy\",y_pred_test)"
      ],
      "metadata": {
        "id": "S0QAYzNEKkc_"
      },
      "execution_count": null,
      "outputs": []
    },
    {
      "cell_type": "code",
      "source": [
        "y_pred_train = clf.predict(x_train)\n",
        "np.save(path + \"GBOOST/y_pred_train.npy\",y_pred_train)"
      ],
      "metadata": {
        "id": "xBLrmpyRLoOP"
      },
      "execution_count": null,
      "outputs": []
    },
    {
      "cell_type": "code",
      "source": [
        "y_pred_un = np.zeros_like(y_un)"
      ],
      "metadata": {
        "id": "vDDiACmDc8gy"
      },
      "execution_count": null,
      "outputs": []
    },
    {
      "cell_type": "code",
      "source": [
        "y_pred_un.shape"
      ],
      "metadata": {
        "colab": {
          "base_uri": "https://localhost:8080/"
        },
        "id": "n3FXFI2LjoW5",
        "outputId": "4952b2a7-47a5-45cb-9574-cca8ede2f3bd"
      },
      "execution_count": null,
      "outputs": [
        {
          "output_type": "execute_result",
          "data": {
            "text/plain": [
              "(1851040,)"
            ]
          },
          "metadata": {},
          "execution_count": 149
        }
      ]
    },
    {
      "cell_type": "code",
      "source": [
        "np.save(path + \"GBOOST/y_pred_un.npy\",y_pred_un)"
      ],
      "metadata": {
        "id": "JTizDeKrLvyb"
      },
      "execution_count": null,
      "outputs": []
    },
    {
      "cell_type": "code",
      "source": [
        "accuracy_score(y_test,y_pred_test)"
      ],
      "metadata": {
        "colab": {
          "base_uri": "https://localhost:8080/"
        },
        "id": "Q4slMFgMKwCN",
        "outputId": "f6a68f0d-234e-4960-9da5-939134417ed7"
      },
      "execution_count": null,
      "outputs": [
        {
          "output_type": "execute_result",
          "data": {
            "text/plain": [
              "0.9364359147301081"
            ]
          },
          "metadata": {},
          "execution_count": 155
        }
      ]
    },
    {
      "cell_type": "code",
      "source": [
        "confusion_matrix(y_test,y_pred_test)"
      ],
      "metadata": {
        "colab": {
          "base_uri": "https://localhost:8080/"
        },
        "id": "2TTGPC9SK2v8",
        "outputId": "25e02432-de05-40e0-8219-aabe764d1aeb"
      },
      "execution_count": null,
      "outputs": [
        {
          "output_type": "execute_result",
          "data": {
            "text/plain": [
              "array([[58845,    81,   853,   226,   361],\n",
              "       [   39,  5310,    13,     1,    18],\n",
              "       [ 2387,    11, 12488,    35,   569],\n",
              "       [  905,     5,    72,  5240,    74],\n",
              "       [  363,    20,   184,     3,  9751]])"
            ]
          },
          "metadata": {},
          "execution_count": 156
        }
      ]
    }
  ]
}