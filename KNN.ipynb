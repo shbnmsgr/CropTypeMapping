{
  "nbformat": 4,
  "nbformat_minor": 0,
  "metadata": {
    "colab": {
      "provenance": [],
      "authorship_tag": "ABX9TyOP+0xOf7Dgy67/G2n3PVVV",
      "include_colab_link": true
    },
    "kernelspec": {
      "name": "python3",
      "display_name": "Python 3"
    },
    "language_info": {
      "name": "python"
    },
    "accelerator": "GPU",
    "gpuClass": "standard"
  },
  "cells": [
    {
      "cell_type": "markdown",
      "metadata": {
        "id": "view-in-github",
        "colab_type": "text"
      },
      "source": [
        "<a href=\"https://colab.research.google.com/github/shbnmsgr/CropTypeMapping/blob/main/KNN.ipynb\" target=\"_parent\"><img src=\"https://colab.research.google.com/assets/colab-badge.svg\" alt=\"Open In Colab\"/></a>"
      ]
    },
    {
      "cell_type": "code",
      "execution_count": null,
      "metadata": {
        "id": "UnMSejhjJdQl"
      },
      "outputs": [],
      "source": [
        "import numpy as np\n",
        "from sklearn.neighbors import KNeighborsClassifier\n",
        "from sklearn.metrics import confusion_matrix\n",
        "from sklearn.metrics import classification_report\n",
        "from sklearn.metrics import accuracy_score\n",
        "import pickle"
      ]
    },
    {
      "cell_type": "code",
      "source": [
        "import matplotlib.pyplot as plt"
      ],
      "metadata": {
        "id": "5KTibGOzQOVg"
      },
      "execution_count": null,
      "outputs": []
    },
    {
      "cell_type": "code",
      "source": [
        "from google.colab import drive\n",
        "drive.mount('/content/drive')"
      ],
      "metadata": {
        "colab": {
          "base_uri": "https://localhost:8080/"
        },
        "id": "QQ8_9VgktoFI",
        "outputId": "c996dc14-3fa6-4531-ed5c-832013359be2"
      },
      "execution_count": null,
      "outputs": [
        {
          "output_type": "stream",
          "name": "stdout",
          "text": [
            "Drive already mounted at /content/drive; to attempt to forcibly remount, call drive.mount(\"/content/drive\", force_remount=True).\n"
          ]
        }
      ]
    },
    {
      "cell_type": "code",
      "source": [
        "# did : S1_RVI, VH, VV, VVVH, S2_ARVI2, S2_CCCI, CVI, EVI, GEMI, GLI, LAI, LCI, ,NDVI, SAVI,VARI"
      ],
      "metadata": {
        "id": "iyZmjtuvEZaz"
      },
      "execution_count": null,
      "outputs": []
    },
    {
      "cell_type": "code",
      "source": [
        "path = '/content/drive/Shareddrives/Unlimited Drive | @LicenseMarket/subset1/S2_NDVI/'\n",
        "model = 'KNN/'\n",
        "x_train = np.load(path + 'x_train.npy')\n",
        "y_train = np.load(path + 'y_train.npy')\n",
        "x_test = np.load(path + 'x_test.npy')\n",
        "y_test = np.load(path + 'y_test.npy')\n",
        "x_un = np.load(path + 'x_un.npy')\n",
        "y_un = np.load(path + 'y_un.npy')\n",
        "xsize = np.load(path + 'height.npy')\n",
        "ysize = np.load(path + 'width.npy')\n",
        "bands = np.load(path + 'bands.npy')"
      ],
      "metadata": {
        "id": "RvPz5yHmtZwx"
      },
      "execution_count": null,
      "outputs": []
    },
    {
      "cell_type": "code",
      "source": [
        "clf = KNeighborsClassifier(n_neighbors=3)"
      ],
      "metadata": {
        "id": "FKzMd1mgJf--"
      },
      "execution_count": null,
      "outputs": []
    },
    {
      "cell_type": "code",
      "source": [
        "y = clf.fit(x_train, y_train)\n",
        "pickle.dump(clf,open( path + model +'modl.sav','wb'))"
      ],
      "metadata": {
        "id": "3bLi6HWOKazr"
      },
      "execution_count": null,
      "outputs": []
    },
    {
      "cell_type": "code",
      "source": [
        "# model = pickle.load(open('modl.sav', 'rb'))\n"
      ],
      "metadata": {
        "id": "CZ1FYyE4EE9k"
      },
      "execution_count": null,
      "outputs": []
    },
    {
      "cell_type": "code",
      "source": [
        "y_pred_test = clf.predict(x_test)\n",
        "np.save(path +  model + \"y_pred_test.npy\",y_pred_test)"
      ],
      "metadata": {
        "id": "S0QAYzNEKkc_"
      },
      "execution_count": null,
      "outputs": []
    },
    {
      "cell_type": "code",
      "source": [
        "accuracy_score(y_test,y_pred_test)"
      ],
      "metadata": {
        "id": "Q4slMFgMKwCN",
        "colab": {
          "base_uri": "https://localhost:8080/"
        },
        "outputId": "7ddf11e2-0448-4d8c-91d7-bba1078bf437"
      },
      "execution_count": null,
      "outputs": [
        {
          "output_type": "execute_result",
          "data": {
            "text/plain": [
              "0.970731906718172"
            ]
          },
          "metadata": {},
          "execution_count": 159
        }
      ]
    },
    {
      "cell_type": "code",
      "source": [
        "y_pred_train = clf.predict(x_train)\n",
        "np.save(path + model + \"y_pred_train.npy\",y_pred_train)"
      ],
      "metadata": {
        "id": "xBLrmpyRLoOP"
      },
      "execution_count": null,
      "outputs": []
    },
    {
      "cell_type": "code",
      "source": [
        "y_pred_un = np.zeros_like(y_un)"
      ],
      "metadata": {
        "id": "vDDiACmDc8gy"
      },
      "execution_count": null,
      "outputs": []
    },
    {
      "cell_type": "code",
      "source": [
        "y_pred_un.shape"
      ],
      "metadata": {
        "id": "n3FXFI2LjoW5",
        "colab": {
          "base_uri": "https://localhost:8080/"
        },
        "outputId": "8aec84e2-5532-4f78-a13a-a14eba48bb70"
      },
      "execution_count": null,
      "outputs": [
        {
          "output_type": "execute_result",
          "data": {
            "text/plain": [
              "(1851040,)"
            ]
          },
          "metadata": {},
          "execution_count": 162
        }
      ]
    },
    {
      "cell_type": "code",
      "source": [
        "x_un2 = x_un[0:1850896,:]"
      ],
      "metadata": {
        "id": "yGq0rrxLoHhA"
      },
      "execution_count": null,
      "outputs": []
    },
    {
      "cell_type": "code",
      "source": [
        "y_pred_un = clf.predict(x_un2)"
      ],
      "metadata": {
        "id": "K0cttixQjsQD"
      },
      "execution_count": null,
      "outputs": []
    },
    {
      "cell_type": "code",
      "source": [
        "y_pred_un2 = np.zeros_like(y_un)\n",
        "y_pred_un2[0:1850896]=y_pred_un"
      ],
      "metadata": {
        "id": "iTwa3qDdwRlc"
      },
      "execution_count": null,
      "outputs": []
    },
    {
      "cell_type": "code",
      "source": [
        "y_pred_un2.shape"
      ],
      "metadata": {
        "id": "bOfd_dKBwp20",
        "colab": {
          "base_uri": "https://localhost:8080/"
        },
        "outputId": "85ddb960-07bf-412c-fccc-bea3d224e584"
      },
      "execution_count": null,
      "outputs": [
        {
          "output_type": "execute_result",
          "data": {
            "text/plain": [
              "(1851040,)"
            ]
          },
          "metadata": {},
          "execution_count": 166
        }
      ]
    },
    {
      "cell_type": "code",
      "source": [
        "np.save(path + model + \"y_pred_un.npy\",y_pred_un2)"
      ],
      "metadata": {
        "id": "JTizDeKrLvyb"
      },
      "execution_count": null,
      "outputs": []
    },
    {
      "cell_type": "code",
      "source": [
        "confusion_matrix(y_test,y_pred_test)"
      ],
      "metadata": {
        "id": "2TTGPC9SK2v8",
        "colab": {
          "base_uri": "https://localhost:8080/"
        },
        "outputId": "54daf71e-140d-436e-ddd4-aa63d7155724"
      },
      "execution_count": null,
      "outputs": [
        {
          "output_type": "execute_result",
          "data": {
            "text/plain": [
              "array([[59364,    15,   711,   134,   142],\n",
              "       [   25,  5343,     2,     3,     8],\n",
              "       [  857,     1, 14424,    13,   195],\n",
              "       [  390,     4,    48,  5835,    19],\n",
              "       [  144,     8,   137,     8, 10024]])"
            ]
          },
          "metadata": {},
          "execution_count": 168
        }
      ]
    }
  ]
}