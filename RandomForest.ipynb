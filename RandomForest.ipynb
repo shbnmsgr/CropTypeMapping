{
  "nbformat": 4,
  "nbformat_minor": 0,
  "metadata": {
    "colab": {
      "provenance": [],
      "include_colab_link": true
    },
    "kernelspec": {
      "name": "python3",
      "display_name": "Python 3"
    },
    "language_info": {
      "name": "python"
    },
    "accelerator": "GPU"
  },
  "cells": [
    {
      "cell_type": "markdown",
      "metadata": {
        "id": "view-in-github",
        "colab_type": "text"
      },
      "source": [
        "<a href=\"https://colab.research.google.com/github/shbnmsgr/CropTypeMapping/blob/main/RandomForest.ipynb\" target=\"_parent\"><img src=\"https://colab.research.google.com/assets/colab-badge.svg\" alt=\"Open In Colab\"/></a>"
      ]
    },
    {
      "cell_type": "code",
      "execution_count": null,
      "metadata": {
        "id": "UnMSejhjJdQl"
      },
      "outputs": [],
      "source": [
        "import numpy as np\n",
        "from sklearn.ensemble import RandomForestClassifier\n",
        "from sklearn.metrics import confusion_matrix\n",
        "from sklearn.metrics import classification_report\n",
        "from sklearn.metrics import accuracy_score\n",
        "import pickle"
      ]
    },
    {
      "cell_type": "code",
      "source": [
        "import matplotlib.pyplot as plt"
      ],
      "metadata": {
        "id": "5KTibGOzQOVg"
      },
      "execution_count": null,
      "outputs": []
    },
    {
      "cell_type": "code",
      "source": [
        "from google.colab import drive\n",
        "drive.mount('/content/drive')"
      ],
      "metadata": {
        "id": "QQ8_9VgktoFI",
        "colab": {
          "base_uri": "https://localhost:8080/"
        },
        "outputId": "04883073-dcb7-4bc3-da84-c6bc65ba92a6"
      },
      "execution_count": null,
      "outputs": [
        {
          "output_type": "stream",
          "name": "stdout",
          "text": [
            "Mounted at /content/drive\n"
          ]
        }
      ]
    },
    {
      "cell_type": "code",
      "source": [
        "# did : S1_RVI, VH, VV, VVVH, S2_ARVI2, S2_CCCI, CVI, EVI, GEMI, GLI, LAI, LCI, ,NDVI, SAVI,VARI"
      ],
      "metadata": {
        "id": "iyZmjtuvEZaz"
      },
      "execution_count": null,
      "outputs": []
    },
    {
      "cell_type": "code",
      "source": [
        "path = '/content/drive/Shareddrives/Unlimited Drive | @LicenseMarket/subset2/'\n",
        "\n",
        "x_train = np.load(path + 'x_train.npy')\n",
        "y_train = np.load(path + 'y_train.npy')\n",
        "x_test = np.load(path + 'x_test.npy')\n",
        "y_test = np.load(path + 'y_test.npy')\n",
        "x_un = np.load(path + 'x_un.npy')\n",
        "y_un = np.load(path + 'y_un.npy')\n",
        "xsize = np.load(path + 'height.npy')\n",
        "ysize = np.load(path + 'width.npy')\n",
        "bands = np.load(path + 'bands.npy')"
      ],
      "metadata": {
        "id": "RvPz5yHmtZwx"
      },
      "execution_count": null,
      "outputs": []
    },
    {
      "cell_type": "code",
      "source": [
        "clf = RandomForestClassifier()"
      ],
      "metadata": {
        "id": "FKzMd1mgJf--"
      },
      "execution_count": null,
      "outputs": []
    },
    {
      "cell_type": "code",
      "source": [
        "y = clf.fit(x_train, y_train)\n",
        "pickle.dump(clf,open( path + 'modl.sav','wb'))"
      ],
      "metadata": {
        "id": "3bLi6HWOKazr"
      },
      "execution_count": null,
      "outputs": []
    },
    {
      "cell_type": "code",
      "source": [
        "# model = pickle.load(open('modl.sav', 'rb'))\n"
      ],
      "metadata": {
        "id": "CZ1FYyE4EE9k"
      },
      "execution_count": null,
      "outputs": []
    },
    {
      "cell_type": "code",
      "source": [
        "y_pred_test = clf.predict(x_test)\n",
        "np.save(path + \"y_pred_test.npy\",y_pred_test)"
      ],
      "metadata": {
        "id": "S0QAYzNEKkc_"
      },
      "execution_count": null,
      "outputs": []
    },
    {
      "cell_type": "code",
      "source": [
        "y_pred_train = clf.predict(x_train)\n",
        "np.save(path + \"y_pred_train.npy\",y_pred_train)"
      ],
      "metadata": {
        "id": "xBLrmpyRLoOP"
      },
      "execution_count": null,
      "outputs": []
    },
    {
      "cell_type": "code",
      "source": [
        "y_pred_un = np.zeros_like(y_un)"
      ],
      "metadata": {
        "id": "vDDiACmDc8gy"
      },
      "execution_count": null,
      "outputs": []
    },
    {
      "cell_type": "code",
      "source": [
        "y_pred_un.shape"
      ],
      "metadata": {
        "colab": {
          "base_uri": "https://localhost:8080/"
        },
        "id": "n3FXFI2LjoW5",
        "outputId": "2a2cba9b-8253-4ef5-ac1b-68a1fe67d7cc"
      },
      "execution_count": null,
      "outputs": [
        {
          "output_type": "execute_result",
          "data": {
            "text/plain": [
              "(11446782,)"
            ]
          },
          "metadata": {},
          "execution_count": 12
        }
      ]
    },
    {
      "cell_type": "code",
      "source": [
        "x_un2 = x_un[0:1850896,:]"
      ],
      "metadata": {
        "id": "yGq0rrxLoHhA"
      },
      "execution_count": null,
      "outputs": []
    },
    {
      "cell_type": "code",
      "source": [
        "y_pred_un = clf.predict(x_un)"
      ],
      "metadata": {
        "id": "K0cttixQjsQD"
      },
      "execution_count": null,
      "outputs": []
    },
    {
      "cell_type": "code",
      "source": [
        "y_pred_un2 = np.zeros_like(y_un)\n",
        "y_pred_un2[0:1850896]=y_pred_un"
      ],
      "metadata": {
        "id": "iTwa3qDdwRlc"
      },
      "execution_count": null,
      "outputs": []
    },
    {
      "cell_type": "code",
      "source": [
        "y_pred_un2.shape"
      ],
      "metadata": {
        "colab": {
          "base_uri": "https://localhost:8080/"
        },
        "id": "bOfd_dKBwp20",
        "outputId": "c280bc9f-dcf2-4d0e-fe2a-04cd83b02eb5"
      },
      "execution_count": null,
      "outputs": [
        {
          "output_type": "execute_result",
          "data": {
            "text/plain": [
              "(1851040,)"
            ]
          },
          "metadata": {},
          "execution_count": 356
        }
      ]
    },
    {
      "cell_type": "code",
      "source": [
        "np.save(path + \"y_pred_un.npy\",y_pred_un)"
      ],
      "metadata": {
        "id": "JTizDeKrLvyb"
      },
      "execution_count": null,
      "outputs": []
    },
    {
      "cell_type": "code",
      "source": [
        "accuracy_score(y_test,y_pred_test)"
      ],
      "metadata": {
        "colab": {
          "base_uri": "https://localhost:8080/"
        },
        "id": "Q4slMFgMKwCN",
        "outputId": "09f26aae-1434-48b8-e457-4b1d1a9a8ae7"
      },
      "execution_count": null,
      "outputs": [
        {
          "output_type": "execute_result",
          "data": {
            "text/plain": [
              "0.9639792763090533"
            ]
          },
          "metadata": {},
          "execution_count": 17
        }
      ]
    },
    {
      "cell_type": "code",
      "source": [
        "confusion_matrix(y_test,y_pred_test)"
      ],
      "metadata": {
        "colab": {
          "base_uri": "https://localhost:8080/"
        },
        "id": "2TTGPC9SK2v8",
        "outputId": "b465f1d2-2441-470a-a442-68fbd4d7429d"
      },
      "execution_count": null,
      "outputs": [
        {
          "output_type": "execute_result",
          "data": {
            "text/plain": [
              "array([[75958,    26,   634,   195,   364],\n",
              "       [   28,  4038,     9,     6,     5],\n",
              "       [ 2258,     7, 20761,    54,   632],\n",
              "       [  514,    18,    82, 14938,    40],\n",
              "       [  192,    14,   192,     7, 25527]])"
            ]
          },
          "metadata": {},
          "execution_count": 18
        }
      ]
    }
  ]
}